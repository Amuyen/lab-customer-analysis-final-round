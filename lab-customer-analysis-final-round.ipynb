{
 "cells": [
  {
   "cell_type": "code",
   "execution_count": 3,
   "metadata": {},
   "outputs": [],
   "source": [
    "import pandas as pd\n",
    "import numpy as np\n",
    "import seaborn as sns\n",
    "import matplotlib as plt\n",
    "from sklearn.preprocessing import PowerTransformer, StandardScaler,  MinMaxScaler, Normalizer, QuantileTransformer, OneHotEncoder\n",
    "from sklearn.linear_model import LinearRegression\n",
    "from sklearn.model_selection import train_test_split\n",
    "from sklearn.metrics import mean_absolute_error, r2_score, mean_squared_error"
   ]
  },
  {
   "cell_type": "code",
   "execution_count": 6,
   "metadata": {},
   "outputs": [],
   "source": [
    "def dfclean(x):\n",
    "    x.rename(columns=dict(zip(x.columns,[i.replace(\" \",\"_\").lower() for i in x.columns])),inplace=True)\n",
    "    x.months_since_last_claim.fillna(np.median(x.months_since_last_claim.drop(list(x[x.months_since_last_claim.isna()].index),axis=0)),inplace=True)\n",
    "    x.number_of_open_complaints.fillna(0, inplace=True)\n",
    "    x.response.fillna('no', inplace=True)\n",
    "    x.drop(list(x[x.state.isna() | x.vehicle_size.isna() | x.vehicle_class.isna()].index),axis=0,inplace=True)\n",
    "    x['month']=pd.to_datetime(x.effective_to_date, format='%m/%d/%y').dt.month\n",
    "    i=x['total_claim_amount']\n",
    "    y=x._get_numeric_data().drop(['total_claim_amount'],axis=1)\n",
    "    z=x.select_dtypes(object).drop(['customer','effective_to_date'],axis=1)\n",
    "    df=preprocess(y,z)\n",
    "    return x,df,i\n",
    "\n",
    "\n",
    "def preprocess(n,c):\n",
    "    encoder=OneHotEncoder(drop='first').fit(c)\n",
    "    c=encoder.transform(c)\n",
    "    c=pd.DataFrame(c.toarray(), columns=encoder.get_feature_names_out())\n",
    "    transformer=PowerTransformer(standardize=True).fit(n)\n",
    "    num=transformer.transform(n)\n",
    "    scaler=MinMaxScaler().fit(n)\n",
    "    num=pd.DataFrame(scaler.transform(n))\n",
    "\n",
    "    return pd.concat([n,c],axis=1)\n",
    "\n",
    "\n",
    "\n"
   ]
  },
  {
   "cell_type": "code",
   "execution_count": 7,
   "metadata": {},
   "outputs": [],
   "source": [
    "def metric(y,x):\n",
    "    \n",
    "    for i in (mean_absolute_error,r2_score,mean_squared_error):\n",
    "        sol=str(i)[10:str(i).find(' ',10)].replace('_',' ')\n",
    "        i(y,x)\n",
    "        print(sol,'is',i(y,x))\n",
    "        if i==mean_squared_error:\n",
    "            print('root',sol,'is',np.sqrt(i(y,x)))\n",
    "\n",
    "cust_da, finaldf, target=  dfclean(pd.read_csv('files_for_lab\\csv_files\\marketing_customer_analysis.csv'))\n",
    "\n",
    "\n",
    "X_train, X_test, y_train, y_test = train_test_split(finaldf,target,test_size=0.2,random_state=42)\n",
    "lm = LinearRegression().fit(X_train,y_train)"
   ]
  },
  {
   "cell_type": "code",
   "execution_count": 13,
   "metadata": {},
   "outputs": [
    {
     "name": "stdout",
     "output_type": "stream",
     "text": [
      "For train set:\n",
      "mean absolute error is 95.20252547123656\n",
      "r2 score is 0.7743092025940634\n",
      "mean squared error is 19308.21890396365\n",
      "root mean squared error is 138.9540172285913\n",
      "\n",
      "For test set:\n",
      "mean absolute error is 94.51732465512121\n",
      "r2 score is 0.7626561666853123\n",
      "mean squared error is 18871.455206846804\n",
      "root mean squared error is 137.37341521141127\n"
     ]
    }
   ],
   "source": [
    "\n",
    "print('For train set:')\n",
    "metric(y_train,lm.predict(X_train))\n",
    "\n",
    "print('\\nFor test set:')\n",
    "metric(y_test,lm.predict(X_test))\n"
   ]
  },
  {
   "cell_type": "code",
   "execution_count": 6,
   "metadata": {},
   "outputs": [],
   "source": []
  }
 ],
 "metadata": {
  "kernelspec": {
   "display_name": "base",
   "language": "python",
   "name": "python3"
  },
  "language_info": {
   "codemirror_mode": {
    "name": "ipython",
    "version": 3
   },
   "file_extension": ".py",
   "mimetype": "text/x-python",
   "name": "python",
   "nbconvert_exporter": "python",
   "pygments_lexer": "ipython3",
   "version": "3.9.13"
  },
  "orig_nbformat": 4
 },
 "nbformat": 4,
 "nbformat_minor": 2
}
